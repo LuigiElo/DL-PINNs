{
  "nbformat": 4,
  "nbformat_minor": 0,
  "metadata": {
    "colab": {
      "provenance": [],
      "include_colab_link": true
    },
    "kernelspec": {
      "name": "python3",
      "display_name": "Python 3"
    },
    "language_info": {
      "name": "python"
    }
  },
  "cells": [
    {
      "cell_type": "markdown",
      "metadata": {
        "id": "view-in-github",
        "colab_type": "text"
      },
      "source": [
        "<a href=\"https://colab.research.google.com/github/LuigiElo/DL-PINNs/blob/main/main.ipynb\" target=\"_parent\"><img src=\"https://colab.research.google.com/assets/colab-badge.svg\" alt=\"Open In Colab\"/></a>"
      ]
    },
    {
      "cell_type": "markdown",
      "source": [
        "Initial version"
      ],
      "metadata": {
        "id": "b15muVUu0qyV"
      }
    },
    {
      "cell_type": "code",
      "source": [
        "pip install datasets\n",
        "pip install transformers\n",
        "pip install deepxde"
      ],
      "metadata": {
        "id": "86DIkoLK1ZOF"
      },
      "execution_count": 9,
      "outputs": []
    },
    {
      "cell_type": "code",
      "source": [
        "# Modules to be loaded and used\n",
        "import os\n",
        "os.environ[\"TOKENIZERS_PARALLELISM\"] = \"false\"\n",
        "\n",
        "import torch\n",
        "from torch import nn\n",
        "import math\n",
        "from functools import partial\n",
        "from pathlib import Path\n",
        "from tqdm import tqdm\n",
        "import rich\n",
        "from typing import List, Tuple, Optional, Dict, Any\n",
        "import matplotlib.pyplot as plt\n",
        "import seaborn as sns\n",
        "import numpy as np\n",
        "import transformers\n",
        "import tokenizers\n",
        "import datasets\n",
        "import zipfile\n",
        "from huggingface_hub import hf_hub_download\n",
        "\n",
        "from __future__ import division\n",
        "from __future__ import print_function\n",
        "\n",
        "import numpy as np\n",
        "import deepxde as dde\n",
        "from deepxde.backend import tf\n",
        "from scipy.integrate import odeint\n",
        "import re"
      ],
      "metadata": {
        "id": "UYjX4pn62GGc"
      },
      "execution_count": null,
      "outputs": []
    }
  ]
}