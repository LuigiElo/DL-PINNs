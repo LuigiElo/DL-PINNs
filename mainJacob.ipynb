{
  "nbformat": 4,
  "nbformat_minor": 0,
  "metadata": {
    "colab": {
      "provenance": [],
      "include_colab_link": true
    },
    "kernelspec": {
      "name": "python3",
      "display_name": "Python 3"
    },
    "language_info": {
      "name": "python"
    }
  },
  "cells": [
    {
      "cell_type": "markdown",
      "metadata": {
        "id": "view-in-github",
        "colab_type": "text"
      },
      "source": [
        "<a href=\"https://colab.research.google.com/github/LuigiElo/DL-PINNs/blob/main/mainJacob.ipynb\" target=\"_parent\"><img src=\"https://colab.research.google.com/assets/colab-badge.svg\" alt=\"Open In Colab\"/></a>"
      ]
    },
    {
      "cell_type": "markdown",
      "source": [
        "Initial version"
      ],
      "metadata": {
        "id": "b15muVUu0qyV"
      }
    },
    {
      "cell_type": "code",
      "source": [
        "!pip install datasets\n",
        "!pip install transformers\n",
        "!pip install deepxde"
      ],
      "metadata": {
        "id": "86DIkoLK1ZOF"
      },
      "execution_count": null,
      "outputs": []
    },
    {
      "cell_type": "code",
      "source": [
        "# Modules to be loaded and used\n",
        "import os\n",
        "os.environ[\"TOKENIZERS_PARALLELISM\"] = \"false\"\n",
        "\n",
        "import torch\n",
        "from torch import nn\n",
        "import math\n",
        "from functools import partial\n",
        "from pathlib import Path\n",
        "from tqdm import tqdm\n",
        "import rich\n",
        "from typing import List, Tuple, Optional, Dict, Any\n",
        "import matplotlib.pyplot as plt\n",
        "import seaborn as sns\n",
        "import numpy as np\n",
        "import transformers\n",
        "import tokenizers\n",
        "import datasets\n",
        "import zipfile\n",
        "from huggingface_hub import hf_hub_download\n",
        "\n",
        "from __future__ import division\n",
        "from __future__ import print_function\n",
        "\n",
        "import numpy as np\n",
        "import deepxde as dde\n",
        "from deepxde.backend import tf\n",
        "from scipy.integrate import odeint\n",
        "import re\n",
        "\n",
        "\n",
        "from pylab import meshgrid,cm,imshow,contour,clabel,colorbar,axis,title,show"
      ],
      "metadata": {
        "id": "UYjX4pn62GGc"
      },
      "execution_count": null,
      "outputs": []
    },
    {
      "cell_type": "markdown",
      "source": [
        "# (a) Function approximation\n",
        "## 1D"
      ],
      "metadata": {
        "id": "fflFBBKF3dWm"
      }
    },
    {
      "cell_type": "code",
      "source": [
        "n = 30\n",
        "a = 1\n",
        "b = 5\n",
        "c = 1\n",
        "N = np.pi\n",
        "X  = np.linspace(-N,N,n)\n",
        "#y  = a*X**3 + b*X**2 + c*X\n",
        "y = np.sin(X)\n",
        "\n",
        "Xtest = np.linspace(-2*N,2*N,4*n)\n",
        "#ytest = a*Xtest**3 + b*Xtest**2 + c*Xtest\n",
        "ytest = np.sin(Xtest)\n",
        "\n",
        "# function approximation, test outside parameter domain\n",
        "data1D = dde.data.DataSet(\n",
        "    X_train=np.reshape(X, (-1, 1)),\n",
        "    y_train=np.reshape(y, (-1, 1)),\n",
        "    X_test=np.reshape(Xtest, (-1, 1)),\n",
        "    y_test=np.reshape(ytest, (-1, 1)),\n",
        "    col_x=(0,),\n",
        "    col_y=(1,),\n",
        ")\n",
        "\n",
        "layer_size = [1] + 3*[20] + [1]\n",
        "activation = \"tanh\"\n",
        "initializer = \"Glorot normal\"\n",
        "net = dde.maps.FNN(layer_size, activation, initializer)\n",
        "\n",
        "model1 = dde.Model(data1D, net)\n",
        "model1.compile(\"adam\", lr = 0.001, metrics=[\"l2 relative error\"])\n",
        "losshistory, train_state = model1.train(epochs=10000)\n",
        "\n",
        "dde.saveplot(losshistory, train_state, issave=True, isplot=True)\n"
      ],
      "metadata": {
        "id": "s34ntlEr3cG3"
      },
      "execution_count": null,
      "outputs": []
    },
    {
      "cell_type": "markdown",
      "source": [
        "## 2D"
      ],
      "metadata": {
        "id": "IHIxfo-LLBAY"
      }
    },
    {
      "cell_type": "code",
      "source": [
        "n = 30\n",
        "N = np.pi\n",
        "\n",
        "# the function that I'm going to plot\n",
        "def y_func(X1,X2):\n",
        " return np.sin(X1+X2)\n",
        "\n",
        "x1 = np.linspace(-N,N,n)\n",
        "x2 = x1\n",
        "\n",
        "X1,X2 = meshgrid(x1, x2) # grid of point\n",
        "y = y_func(X1, X2) # evaluation of the function on the grid\n",
        "\n",
        "x1test = np.linspace(-1.5*N,1.5*N,4*n)\n",
        "x2test = x1test\n",
        "\n",
        "X1test,X2test = meshgrid(x1test, x2test) # grid of point\n",
        "ytest = y_func(X1test, X2test) # evaluation of the function on the grid\n",
        "\n",
        "\n",
        "# function approximation, test outside parameter domain\n",
        "data2D = dde.data.DataSet(\n",
        "    X_train = np.hstack(( np.reshape(X1, (-1, 1)),np.reshape(X2, (-1, 1)) )),\n",
        "    y_train = np.reshape(y, (-1, 1)),\n",
        "    X_test = np.hstack(( np.reshape(X1test, (-1, 1)),np.reshape(X2test, (-1, 1)) )),\n",
        "    y_test = np.reshape(ytest, (-1, 1)),\n",
        "    col_x = (0,),\n",
        "    col_y = (1,),\n",
        ")\n",
        "\n",
        "layer_size = [2] + [20] * 3 + [1]\n",
        "activation = \"tanh\"\n",
        "initializer = \"Glorot normal\"\n",
        "net = dde.maps.FNN(layer_size, activation, initializer)\n",
        "\n",
        "model2 = dde.Model(data2D, net)\n",
        "model2.compile(\"adam\", lr = 0.001, metrics=[\"l2 relative error\"])\n",
        "losshistory, train_state = model2.train(epochs=5000)\n",
        "\n",
        "dde.saveplot(losshistory, train_state, issave=True, isplot=True)\n"
      ],
      "metadata": {
        "id": "OmyzKvBmLEOl"
      },
      "execution_count": null,
      "outputs": []
    },
    {
      "cell_type": "markdown",
      "source": [
        "# (b)"
      ],
      "metadata": {
        "id": "5e6WOkJv0rAU"
      }
    },
    {
      "cell_type": "markdown",
      "source": [
        "## 1D"
      ],
      "metadata": {
        "id": "xcncMPZKQjxR"
      }
    },
    {
      "cell_type": "code",
      "source": [
        "# compute gradient of solution\n",
        "def dudx(x, u):\n",
        "  return dde.grad.jacobian(u, x, i=0)\n",
        "\n",
        "du_dx = model1.predict(np.reshape(X, (-1, 1)), operator=dudx)\n",
        "\n",
        "yx = du_dx\n",
        "\n",
        "plt.figure()\n",
        "plt.plot(X,yx,'k',label='True')\n",
        "plt.plot(np.reshape(X, (-1, 1)),du_dx,'r',label='Predicted')\n",
        "plt.xlabel('x')\n",
        "plt.ylabel('du/dx')\n",
        "plt.legend()\n",
        "plt.show()\n",
        "\n",
        "plt.figure()\n",
        "plt.plot(X,du_dx-np.reshape(yx,(-1,1)),'r')\n",
        "plt.xlabel('x')\n",
        "plt.ylabel('Error')\n",
        "plt.show()"
      ],
      "metadata": {
        "id": "mIqf4PE30xrc"
      },
      "execution_count": null,
      "outputs": []
    },
    {
      "cell_type": "markdown",
      "source": [
        "# (c)"
      ],
      "metadata": {
        "id": "LHG37iCoC6XW"
      }
    },
    {
      "cell_type": "markdown",
      "source": [
        "## 1D"
      ],
      "metadata": {
        "id": "M98XSRRYKrnu"
      }
    },
    {
      "cell_type": "code",
      "source": [
        "n = 30\n",
        "X  = np.linspace(-np.pi,np.pi,n)\n",
        "y  = [np.sin(X),np.cos(X)]\n",
        "\n",
        "Xtest  = np.linspace(-2*np.pi,2*np.pi,4*n)\n",
        "ytest  = [np.sin(Xtest),np.cos(Xtest)]\n",
        "\n",
        "# reshaping output training data\n",
        "y1 = np.asmatrix(y[0]).transpose()\n",
        "y2 = np.asmatrix(y[1]).transpose()\n",
        "ynew = np.concatenate((y1,y2),axis=1)\n",
        "ynew = np.asarray(ynew)\n",
        "\n",
        "# reshaping output test data\n",
        "ytest1 = np.asmatrix(ytest[0]).transpose()\n",
        "ytest2 = np.asmatrix(ytest[1]).transpose()\n",
        "ytestnew = np.concatenate((ytest1,ytest2),axis=1)\n",
        "ytestnew = np.asarray(ytestnew)\n",
        "\n",
        "\n",
        "# function approximation, test outside parameter domain\n",
        "data1Dg = dde.data.DataSet(\n",
        "    X_train=np.reshape(X, (-1, 1)),\n",
        "    y_train=ynew,\n",
        "    X_test=np.reshape(Xtest, (-1, 1)),\n",
        "    y_test=ytestnew,\n",
        "    col_x=(0,),\n",
        "    col_y=(1,),\n",
        ")\n",
        "\n",
        "layer_size = [1] + [20] * 3 + [2]\n",
        "activation = \"tanh\"\n",
        "initializer = \"Glorot normal\"\n",
        "net = dde.maps.FNN(layer_size, activation, initializer)\n",
        "\n",
        "model = dde.Model(data1Dg, net)\n",
        "model.compile(\"adam\", lr = 0.001, metrics=[\"l2 relative error\"])\n",
        "losshistory, train_state = model.train(epochs=5000)\n",
        "\n",
        "dde.saveplot(losshistory, train_state, issave=True, isplot=True)"
      ],
      "metadata": {
        "id": "YdrWJZ_qCaJb"
      },
      "execution_count": null,
      "outputs": []
    },
    {
      "cell_type": "markdown",
      "source": [
        "## 2D"
      ],
      "metadata": {
        "id": "5pzXGdjaSPpu"
      }
    },
    {
      "cell_type": "code",
      "source": [
        "n = 30\n",
        "N = np.pi\n",
        "\n",
        "# the function that I'm going to plot\n",
        "def y_func(X1,X2):\n",
        " return np.sin(X1+X2)\n",
        "\n",
        "def y_grad(X1,X2):\n",
        " return np.cos(X1+X2),np.cos(X1+X2)\n",
        "\n",
        "x1 = np.linspace(-N,N,n)\n",
        "x2 = x1\n",
        "\n",
        "X1,X2 = meshgrid(x1, x2) # grid of points\n",
        "y = y_func(X1, X2) # evaluation of the function on the grid\n",
        "yg = y_grad(X1,X2) # evaluation of the gradient on the grid\n",
        "\n",
        "# Collecting and reshaping training function val and gradient val into one output:\n",
        "y = np.hstack((np.reshape(y, (-1, 1)), np.reshape(yg[0], (-1, 1)), np.reshape(yg[1], (-1, 1)) ))\n",
        "\n",
        "\n",
        "x1test = np.linspace(-2*N,2*N,4*n)\n",
        "x2test = x1test\n",
        "\n",
        "X1test,X2test = meshgrid(x1test, x2test) # grid of point\n",
        "ytest = y_func(X1test, X2test) # evaluation of the function on the grid\n",
        "ytestg = y_grad(X1test,X2test) # evaluation of the gradient on the grid\n",
        "\n",
        "# Collecting and reshaping testing output function val and gradient val into one output:\n",
        "ytest = np.hstack((np.reshape(ytest, (-1, 1)), np.reshape(ytestg[0], (-1, 1)), np.reshape(ytestg[1], (-1, 1)) ))\n",
        "\n",
        "\n",
        "\n",
        "\n",
        "# function approximation, test outside parameter domain\n",
        "data2Dg = dde.data.DataSet(\n",
        "    X_train = np.hstack(( np.reshape(X1, (-1, 1)),np.reshape(X2, (-1, 1)) )),\n",
        "    y_train = y,\n",
        "    X_test = np.hstack(( np.reshape(X1test, (-1, 1)),np.reshape(X2test, (-1, 1)) )),\n",
        "    y_test = ytest,\n",
        "    col_x = (0,),\n",
        "    col_y = (1,),\n",
        ")\n",
        "\n",
        "layer_size = [2] + [20] * 3 + [3]\n",
        "activation = \"tanh\"\n",
        "initializer = \"Glorot normal\"\n",
        "net = dde.maps.FNN(layer_size, activation, initializer)\n",
        "\n",
        "model = dde.Model(data2Dg, net)\n",
        "model.compile(\"adam\", lr = 0.001, metrics=[\"l2 relative error\"])\n",
        "losshistory, train_state = model.train(epochs=5000)\n",
        "\n",
        "dde.saveplot(losshistory, train_state, issave=True, isplot=True)"
      ],
      "metadata": {
        "id": "OhDcXC9DHEzB"
      },
      "execution_count": null,
      "outputs": []
    },
    {
      "cell_type": "code",
      "source": [],
      "metadata": {
        "id": "n5N_lEisgxZn"
      },
      "execution_count": null,
      "outputs": []
    }
  ]
}